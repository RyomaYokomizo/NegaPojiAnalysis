{
  "nbformat": 4,
  "nbformat_minor": 0,
  "metadata": {
    "accelerator": "GPU",
    "colab": {
      "name": "NegaPojiAnalysis.ipynb",
      "provenance": [],
      "collapsed_sections": []
    },
    "kernelspec": {
      "display_name": "Python 3",
      "name": "python3"
    }
  },
  "cells": [
    {
      "cell_type": "code",
      "metadata": {
        "colab": {
          "base_uri": "https://localhost:8080/"
        },
        "id": "dmBOtmzquzlC",
        "outputId": "cb00af81-4acc-4eed-fdf5-10262769c3b8"
      },
      "source": [
        "!pip install mecab-python3\n",
        "# 形態素分析ライブラリーMeCab と 辞書(mecab-ipadic-NEologd)のインストール \n",
        "!apt-get -q -y install sudo file mecab libmecab-dev mecab-ipadic-utf8 git curl python-mecab > /dev/null\n",
        "!git clone --depth 1 https://github.com/neologd/mecab-ipadic-neologd.git > /dev/null \n",
        "!echo yes | mecab-ipadic-neologd/bin/install-mecab-ipadic-neologd -n > /dev/null 2>&1\n",
        "!pip install mecab-python3 > /dev/null\n",
        "# シンボリックリンクによるエラー回避\n",
        "!ln -s /etc/mecabrc /usr/local/etc/mecabrc\n",
        "!pip install neologdn\n",
        "!pip install jaconv\n",
        "\n",
        "import collections\n",
        "from collections import namedtuple\n",
        "import jaconv\n",
        "import MeCab\n",
        "import neologdn\n",
        "import numpy as np\n",
        "import pandas as pd\n",
        "import re"
      ],
      "execution_count": 11,
      "outputs": [
        {
          "output_type": "stream",
          "text": [
            "Requirement already satisfied: mecab-python3 in /usr/local/lib/python3.6/dist-packages (1.0.3)\n",
            "fatal: destination path 'mecab-ipadic-neologd' already exists and is not an empty directory.\n",
            "ln: failed to create symbolic link '/usr/local/etc/mecabrc': File exists\n",
            "Requirement already satisfied: neologdn in /usr/local/lib/python3.6/dist-packages (0.4)\n",
            "Requirement already satisfied: jaconv in /usr/local/lib/python3.6/dist-packages (0.2.4)\n"
          ],
          "name": "stdout"
        }
      ]
    },
    {
      "cell_type": "code",
      "metadata": {
        "colab": {
          "background_save": true,
          "base_uri": "https://localhost:8080/"
        },
        "id": "lBXQcdLkvRKm",
        "outputId": "0f6373ee-0c8c-4f6f-cdba-e07330ff32bd"
      },
      "source": [
        "%cd drive/My Drive"
      ],
      "execution_count": null,
      "outputs": [
        {
          "output_type": "stream",
          "text": [
            "/content/drive/My Drive\n"
          ],
          "name": "stdout"
        }
      ]
    },
    {
      "cell_type": "code",
      "metadata": {
        "colab": {
          "background_save": true
        },
        "id": "vAM0rlMuvRh7"
      },
      "source": [
        "df = pd.read_csv('./@cosme_1120.csv').reset_index()"
      ],
      "execution_count": null,
      "outputs": []
    },
    {
      "cell_type": "code",
      "metadata": {
        "colab": {
          "background_save": true
        },
        "id": "TgCR2Yl-vTXD"
      },
      "source": [
        "change_reviews = []\n",
        "for review in df['review']:\n",
        "  review = neologdn.normalize(review)\n",
        "  review = review.replace('@', 'アット')\n",
        "  review = review.replace('＠', 'アット')\n",
        "  review = review.replace('cosme', 'コスメ')\n",
        "  review = review.replace('■', '')\n",
        "  #review = review.replace('リピ', 'リピート')\n",
        "  review = review.replace('good', '良い')\n",
        "  review = review.replace('コスパ', 'コストパフォーマンス')\n",
        "  review = review.replace('いいです', '良い')\n",
        "  review = review.replace('よかった', '良い')\n",
        "  review = review.replace('します', 'する')\n",
        "  review = review.replace('しません', 'しない')\n",
        "  review = re.split('[。.！!?？!?♪★☆(´･`)*^]', review)\n",
        "  change_reviews.append(' '.join(review))\n",
        "reviews_df = pd.DataFrame(change_reviews, columns=['review'])"
      ],
      "execution_count": null,
      "outputs": []
    },
    {
      "cell_type": "code",
      "metadata": {
        "id": "8vzKTamIvVjh"
      },
      "source": [
        "#http://svn.sourceforge.jp/svnroot/slothlib/CSharp/Version1/SlothLib/NLP/Filter/StopWord/word/Japanese.txt\n",
        "#上のURL開いてダウンロードする\n",
        "#テキストファイル読み込み\n",
        "with open('Japanese.txt', 'r', encoding='utf-8') as f:\n",
        "  stopwords = [w.strip() for w in f]\n",
        "  stopwords = list(stopwords)\n",
        "stopwords.append('*')\n",
        "\n",
        "with open ('negapoji_jp.txt', 'r', encoding = 'cp932') as f:\n",
        "  #単語・読み仮名・品詞・スコアに分割してリストとして格納\n",
        "  negapoji_list = [negapoji_word.replace('\\n', '').split(':') for negapoji_word in  f.readlines()]\n",
        "negapoji_df = pd.DataFrame(negapoji_list, columns = ['base_form', 'reading', 'pos', 'score'])\n",
        "#jaconvを使って読み仮名を全てカタカナに変換\n",
        "negapoji_df['reading'] = negapoji_df['reading'].apply(lambda x : jaconv.hira2kata(x))\n",
        "#なぜか読みや品詞まで同じなのに、異なるスコアが割り当てられていたものがあったので重複を削除\n",
        "negapoji_df = negapoji_df[~negapoji_df[['base_form', 'reading', 'pos']].duplicated()]"
      ],
      "execution_count": null,
      "outputs": []
    },
    {
      "cell_type": "code",
      "metadata": {
        "id": "2WILfjKTvYE5"
      },
      "source": [
        "class NegaPojiAnalysis():\n",
        "  def __init__(self, reviews_df, negapoji_list, stopwords):\n",
        "    self.reviews_df = reviews_df\n",
        "    self.negapoji_list = negapoji_list\n",
        "    self.stopwords = stopwords\n",
        "    self.path = \"-Ochasen -d /usr/lib/x86_64-linux-gnu/mecab/dic/mecab-ipadic-neologd\"\n",
        "    self.tagger = MeCab.Tagger(self.path)\n",
        "\n",
        "  def tokenize(self):\n",
        "    word_list = []\n",
        "    for i, review in enumerate(self.reviews_df['review']):\n",
        "        node = self.tagger.parseToNode(review)\n",
        "        while node:\n",
        "          surface = node.surface\n",
        "          pos = node.feature.split(\",\")[0]\n",
        "          pos_detail1 = node.feature.split(\",\")[1]\n",
        "          pos_detail2 = node.feature.split(\",\")[2]\n",
        "          pos_detail3 = node.feature.split(\",\")[3]\n",
        "          infl_type = node.feature.split(\",\")[4]  \n",
        "          infl_form = node.feature.split(\",\")[5]\n",
        "          base_form = node.feature.split(\",\")[6]\n",
        "          if len(node.feature.split(\",\")) >= 8:\n",
        "            reading = node.feature.split(\",\")[7]\n",
        "          if pos == '名詞' or pos == '動詞' or pos == '形容詞' or pos == '副詞':\n",
        "            word_list.append([i, surface, pos, pos_detail1, pos_detail2, pos_detail3, infl_type, infl_form, base_form, reading])\n",
        "          node = node.next\n",
        "    word_df = pd.DataFrame(word_list, columns = ['index', 'surface', 'pos', 'pos_detail1', 'pos_detail2', 'pos_detail3', 'infl_type', 'infl_form', 'base_form', 'reading'])\n",
        "    word_df['pos'] = word_df['pos'].apply(lambda negapoji_list : negapoji_list.split(',')[0])\n",
        "    return word_df\n",
        "\n",
        "  def generate_negapoji_score(self, word_df, negapoji_df):\n",
        "    score_result_df = pd.merge(word_df, negapoji_df, on = ['base_form', 'pos', 'reading'], how = 'left')\n",
        "    return score_result_df\n",
        "\n",
        "  def generate_review_score(self, score_result_df):\n",
        "    result = []\n",
        "    for i in range(len(score_result_df['index'].unique())):\n",
        "        temp_df = score_result_df[score_result_df['index'] == i]\n",
        "        text = self.reviews_df['review'][i]\n",
        "        #text = ''.join(list(temp_df['word']))\n",
        "        score = temp_df['score'].astype(float).sum()\n",
        "        #スコアをスコアが付与されている単語数で割った値を算出\n",
        "        score_r = score/temp_df['score'].astype(float).count()\n",
        "        result.append([i, text, score,score_r])\n",
        "    result_df = pd.DataFrame(result, columns = ['index', 'review', '累計スコア', '標準化スコア']).sort_values(by = '標準化スコア', ascending=False).reset_index(drop = True)\n",
        "    return result_df"
      ],
      "execution_count": null,
      "outputs": []
    },
    {
      "cell_type": "code",
      "metadata": {
        "colab": {
          "base_uri": "https://localhost:8080/"
        },
        "id": "EmSfKPcrvlTc",
        "outputId": "2b00d6af-1414-4331-d796-0c862d8dbc7c"
      },
      "source": [
        "negapoji_analysis = NegaPojiAnalysis(reviews_df, negapoji_list, stopwords)\n",
        "parse_text_df = negapoji_analysis.tokenize()\n",
        "score_result_df = negapoji_analysis.generate_negapoji_score(parse_text_df, negapoji_df)\n",
        "review_result_df = negapoji_analysis.generate_review_score(score_result_df)"
      ],
      "execution_count": null,
      "outputs": [
        {
          "output_type": "stream",
          "text": [
            "/usr/local/lib/python3.6/dist-packages/ipykernel_launcher.py:43: RuntimeWarning: invalid value encountered in double_scalars\n"
          ],
          "name": "stderr"
        }
      ]
    },
    {
      "cell_type": "code",
      "metadata": {
        "colab": {
          "base_uri": "https://localhost:8080/",
          "height": 419
        },
        "id": "kUklewg1v8fm",
        "outputId": "3f489d36-abe6-4c2e-9955-b157f1feae4c"
      },
      "source": [
        "review_result_df"
      ],
      "execution_count": null,
      "outputs": [
        {
          "output_type": "execute_result",
          "data": {
            "text/html": [
              "<div>\n",
              "<style scoped>\n",
              "    .dataframe tbody tr th:only-of-type {\n",
              "        vertical-align: middle;\n",
              "    }\n",
              "\n",
              "    .dataframe tbody tr th {\n",
              "        vertical-align: top;\n",
              "    }\n",
              "\n",
              "    .dataframe thead th {\n",
              "        text-align: right;\n",
              "    }\n",
              "</style>\n",
              "<table border=\"1\" class=\"dataframe\">\n",
              "  <thead>\n",
              "    <tr style=\"text-align: right;\">\n",
              "      <th></th>\n",
              "      <th>index</th>\n",
              "      <th>review</th>\n",
              "      <th>累計スコア</th>\n",
              "      <th>標準化スコア</th>\n",
              "    </tr>\n",
              "  </thead>\n",
              "  <tbody>\n",
              "    <tr>\n",
              "      <th>0</th>\n",
              "      <td>692</td>\n",
              "      <td>first time user and so excited to use it  beca...</td>\n",
              "      <td>0.999995</td>\n",
              "      <td>0.999995</td>\n",
              "    </tr>\n",
              "    <tr>\n",
              "      <th>1</th>\n",
              "      <td>520</td>\n",
              "      <td>良い</td>\n",
              "      <td>0.999995</td>\n",
              "      <td>0.999995</td>\n",
              "    </tr>\n",
              "    <tr>\n",
              "      <th>2</th>\n",
              "      <td>517</td>\n",
              "      <td>香りが良いです</td>\n",
              "      <td>0.999995</td>\n",
              "      <td>0.999995</td>\n",
              "    </tr>\n",
              "    <tr>\n",
              "      <th>3</th>\n",
              "      <td>491</td>\n",
              "      <td>リピしてます コストパフォーマンス良い</td>\n",
              "      <td>0.999995</td>\n",
              "      <td>0.999995</td>\n",
              "    </tr>\n",
              "    <tr>\n",
              "      <th>4</th>\n",
              "      <td>690</td>\n",
              "      <td>肌荒れへの効果があり良かったです</td>\n",
              "      <td>0.938205</td>\n",
              "      <td>0.938205</td>\n",
              "    </tr>\n",
              "    <tr>\n",
              "      <th>...</th>\n",
              "      <td>...</td>\n",
              "      <td>...</td>\n",
              "      <td>...</td>\n",
              "      <td>...</td>\n",
              "    </tr>\n",
              "    <tr>\n",
              "      <th>895</th>\n",
              "      <td>196</td>\n",
              "      <td>使い続ける理由が見当たらないです  ・・  笑</td>\n",
              "      <td>-1.568902</td>\n",
              "      <td>-0.784451</td>\n",
              "    </tr>\n",
              "    <tr>\n",
              "      <th>896</th>\n",
              "      <td>288</td>\n",
              "      <td>使い始めて1週間 使わない時と違いがあるので、しばらく続けてみます</td>\n",
              "      <td>-1.579045</td>\n",
              "      <td>-0.789523</td>\n",
              "    </tr>\n",
              "    <tr>\n",
              "      <th>897</th>\n",
              "      <td>333</td>\n",
              "      <td>口コミよくて買ってみましたが思っていたほどではなかったです もう少し潤いあるかと思っていたの...</td>\n",
              "      <td>-4.803684</td>\n",
              "      <td>-0.800614</td>\n",
              "    </tr>\n",
              "    <tr>\n",
              "      <th>898</th>\n",
              "      <td>715</td>\n",
              "      <td>みずみずしい水のような茶色のテクスチャーでしたとろみがないので少し使いづらかったです</td>\n",
              "      <td>-3.315282</td>\n",
              "      <td>-0.828820</td>\n",
              "    </tr>\n",
              "    <tr>\n",
              "      <th>899</th>\n",
              "      <td>336</td>\n",
              "      <td>香りもいいから癒される ピリピリしない</td>\n",
              "      <td>0.000000</td>\n",
              "      <td>NaN</td>\n",
              "    </tr>\n",
              "  </tbody>\n",
              "</table>\n",
              "<p>900 rows × 4 columns</p>\n",
              "</div>"
            ],
            "text/plain": [
              "     index  ...    標準化スコア\n",
              "0      692  ...  0.999995\n",
              "1      520  ...  0.999995\n",
              "2      517  ...  0.999995\n",
              "3      491  ...  0.999995\n",
              "4      690  ...  0.938205\n",
              "..     ...  ...       ...\n",
              "895    196  ... -0.784451\n",
              "896    288  ... -0.789523\n",
              "897    333  ... -0.800614\n",
              "898    715  ... -0.828820\n",
              "899    336  ...       NaN\n",
              "\n",
              "[900 rows x 4 columns]"
            ]
          },
          "metadata": {
            "tags": []
          },
          "execution_count": 10
        }
      ]
    },
    {
      "cell_type": "code",
      "metadata": {
        "id": "EjCsaRA9xEQ9"
      },
      "source": [
        ""
      ],
      "execution_count": null,
      "outputs": []
    }
  ]
}